{
  "nbformat": 4,
  "nbformat_minor": 0,
  "metadata": {
    "colab": {
      "provenance": [],
      "authorship_tag": "ABX9TyMN63D1MD3ZMrPeKUhnlQq8",
      "include_colab_link": true
    },
    "kernelspec": {
      "name": "python3",
      "display_name": "Python 3"
    },
    "language_info": {
      "name": "python"
    }
  },
  "cells": [
    {
      "cell_type": "markdown",
      "metadata": {
        "id": "view-in-github",
        "colab_type": "text"
      },
      "source": [
        "<a href=\"https://colab.research.google.com/github/ismoil27/test-colab/blob/main/vector_and_matrix.ipynb\" target=\"_parent\"><img src=\"https://colab.research.google.com/assets/colab-badge.svg\" alt=\"Open In Colab\"/></a>"
      ]
    },
    {
      "cell_type": "code",
      "execution_count": null,
      "metadata": {
        "colab": {
          "base_uri": "https://localhost:8080/"
        },
        "id": "WACQo_JTR1E9",
        "outputId": "a4aef683-2f3a-4f21-f8e3-23dfac06ccd0"
      },
      "outputs": [
        {
          "output_type": "stream",
          "name": "stdout",
          "text": [
            "Hello World!\n"
          ]
        }
      ],
      "source": [
        "print(\"Hello World!\")"
      ]
    },
    {
      "cell_type": "code",
      "source": [
        "student = [18, 1, 0] # => [age, gender, has_glasses]\n",
        "\n",
        "age = 18\n",
        "gender = 1\n",
        "has_glasses = 0"
      ],
      "metadata": {
        "id": "WT4Ob19TSSr8"
      },
      "execution_count": null,
      "outputs": []
    },
    {
      "cell_type": "code",
      "source": [
        "print(student[0])\n",
        "print(student[1])\n",
        "print(student[2])"
      ],
      "metadata": {
        "colab": {
          "base_uri": "https://localhost:8080/"
        },
        "id": "pnHk4HWrSqGh",
        "outputId": "95ac97e5-6de3-4a67-c070-65f409994ae4"
      },
      "execution_count": null,
      "outputs": [
        {
          "output_type": "stream",
          "name": "stdout",
          "text": [
            "18\n",
            "1\n",
            "0\n"
          ]
        }
      ]
    },
    {
      "cell_type": "code",
      "source": [
        "updated_student = [data + 10 for data in student]\n",
        "print('updated_student', updated_student)\n",
        "print('student', student)"
      ],
      "metadata": {
        "colab": {
          "base_uri": "https://localhost:8080/"
        },
        "id": "ovNo9B4XTCNs",
        "outputId": "6aa7b9f6-0610-4ea9-fcbf-41e3e170d052"
      },
      "execution_count": null,
      "outputs": [
        {
          "output_type": "stream",
          "name": "stdout",
          "text": [
            "updated_student [28, 11, 10]\n",
            "student [18, 1, 0]\n"
          ]
        }
      ]
    }
  ]
}